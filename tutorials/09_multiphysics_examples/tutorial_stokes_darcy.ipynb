{
 "cells": [
  {
   "cell_type": "markdown",
   "metadata": {},
   "source": [
    "# Tutorial 09: Stokes-Darcy equations\n",
    "\n",
    "Coupled mixed formulation using Lagrange multiplier from\n",
    "```\n",
    "Layton, Schieweck, Yotov, Coupling fluid flow with porous media flow. SINUM 2003, DOI:10.1137/S0036142901392766\n",
    "```\n",
    "\n",
    "defined on the interface\n",
    "\n",
    "\\begin{equation*}\n",
    "\\begin{aligned}\n",
    "u_S: \\text{Stokes velocity in }H^1(\\Omega_S)\\\\\n",
    "u_D: \\text{Darcy velocity in }H(\\text{div},\\Omega_D)\\\\\n",
    "p_S: \\text{Stokes pressure in }L^2(\\Omega_S)\\\\\n",
    "p_D: \\text{Darcy pressure in }L^2(\\Omega_D)\\\\\n",
    "\\end{aligned}\n",
    "\\end{equation*}\n",
    "\n",
    "transmission conditions:\n",
    "\n",
    "\\begin{equation*}\n",
    "\\begin{cases}\n",
    "u_S \\cdot n_S + u_D \\cdot n_D = 0\\\\\n",
    "-(2 \\mu \\varepsilon(u_S) - p_S I) n_S \\cdot n_S = pD\\\\\n",
    "-(2 \\mu \\varepsilon(u_S) - p_S I) t_S \\cdot n_S = \\alpha \\mu k^{-0.5} u_S \\cdot t_S\n",
    "\\end{cases}\n",
    "\\end{equation*}"
   ]
  },
  {
   "cell_type": "code",
   "execution_count": null,
   "id": "fenicsx_install",
   "metadata": {},
   "outputs": [],
   "source": [
    "try:\n",
    "    import dolfinx\n",
    "except ImportError:\n",
    "    !wget \"https://fem-on-colab.github.io/releases/fenicsx-install.sh\" -O \"/tmp/fenicsx-install.sh\" && bash \"/tmp/fenicsx-install.sh\"\n",
    "    import dolfinx"
   ]
  },
  {
   "cell_type": "code",
   "execution_count": null,
   "id": "multiphenicsx_install",
   "metadata": {},
   "outputs": [],
   "source": [
    "try:\n",
    "    import multiphenicsx\n",
    "except ImportError:\n",
    "    !pip3 install \"multiphenicsx@git+https://github.com/multiphenics/multiphenicsx.git\"\n",
    "    import multiphenicsx"
   ]
  },
  {
   "cell_type": "code",
   "execution_count": null,
   "id": "fenicsx_install",
   "metadata": {},
   "outputs": [],
   "source": [
    "try:\n",
    "    import dolfinx\n",
    "except ImportError:\n",
    "    !wget \"https://fem-on-colab.github.io/releases/fenicsx-install.sh\" -O \"/tmp/fenicsx-install.sh\" && bash \"/tmp/fenicsx-install.sh\"\n",
    "    import dolfinx"
   ]
  },
  {
   "cell_type": "code",
   "execution_count": null,
   "id": "itkwidgets_pyvista_install",
   "metadata": {},
   "outputs": [],
   "source": [
    "try:\n",
    "    import pyvista\n",
    "except ImportError:\n",
    "    !pip3 install itkwidgets pyvista\n",
    "    import pyvista\n",
    "finally:\n",
    "    import google.colab\n",
    "    google.colab.output.enable_custom_widget_manager()"
   ]
  },
  {
   "cell_type": "code",
   "execution_count": null,
   "id": "multiphenicsx_install",
   "metadata": {},
   "outputs": [],
   "source": [
    "try:\n",
    "    import multiphenicsx\n",
    "except ImportError:\n",
    "    !pip3 install \"multiphenicsx@git+https://github.com/multiphenics/multiphenicsx.git\"\n",
    "    import multiphenicsx"
   ]
  },
  {
   "cell_type": "code",
   "execution_count": null,
   "id": "fenicsx_install",
   "metadata": {},
   "outputs": [],
   "source": [
    "try:\n",
    "    import dolfinx\n",
    "except ImportError:\n",
    "    !wget \"https://fem-on-colab.github.io/releases/fenicsx-install.sh\" -O \"/tmp/fenicsx-install.sh\" && bash \"/tmp/fenicsx-install.sh\"\n",
    "    import dolfinx"
   ]
  },
  {
   "cell_type": "code",
   "execution_count": null,
   "id": "itkwidgets_pyvista_install",
   "metadata": {},
   "outputs": [],
   "source": [
    "try:\n",
    "    import pyvista\n",
    "except ImportError:\n",
    "    !pip3 install itkwidgets pyvista\n",
    "    import pyvista\n",
    "finally:\n",
    "    import google.colab\n",
    "    google.colab.output.enable_custom_widget_manager()"
   ]
  },
  {
   "cell_type": "code",
   "execution_count": null,
   "id": "multiphenicsx_install",
   "metadata": {},
   "outputs": [],
   "source": [
    "try:\n",
    "    import multiphenicsx\n",
    "except ImportError:\n",
    "    !pip3 install \"multiphenicsx@git+https://github.com/multiphenics/multiphenicsx.git\"\n",
    "    import multiphenicsx"
   ]
  },
  {
   "cell_type": "code",
   "execution_count": null,
   "id": "fenicsx_install",
   "metadata": {},
   "outputs": [],
   "source": [
    "try:\n",
    "    import dolfinx\n",
    "except ImportError:\n",
    "    !wget \"https://fem-on-colab.github.io/releases/fenicsx-install.sh\" -O \"/tmp/fenicsx-install.sh\" && bash \"/tmp/fenicsx-install.sh\"\n",
    "    import dolfinx"
   ]
  },
  {
   "cell_type": "code",
   "execution_count": null,
   "id": "itkwidgets_pyvista_install",
   "metadata": {},
   "outputs": [],
   "source": [
    "try:\n",
    "    import pyvista\n",
    "except ImportError:\n",
    "    !pip3 install itkwidgets pyvista\n",
    "    import pyvista\n",
    "finally:\n",
    "    import google.colab\n",
    "    google.colab.output.enable_custom_widget_manager()"
   ]
  },
  {
   "cell_type": "code",
   "execution_count": null,
   "id": "multiphenicsx_install",
   "metadata": {},
   "outputs": [],
   "source": [
    "try:\n",
    "    import multiphenicsx\n",
    "except ImportError:\n",
    "    !pip3 install \"multiphenicsx@git+https://github.com/multiphenics/multiphenicsx.git\"\n",
    "    import multiphenicsx"
   ]
  },
  {
   "cell_type": "code",
   "execution_count": null,
   "id": "fenicsx_install",
   "metadata": {},
   "outputs": [],
   "source": [
    "try:\n",
    "    import dolfinx\n",
    "except ImportError:\n",
    "    !wget \"https://fem-on-colab.github.io/releases/fenicsx-install.sh\" -O \"/tmp/fenicsx-install.sh\" && bash \"/tmp/fenicsx-install.sh\"\n",
    "    import dolfinx"
   ]
  },
  {
   "cell_type": "code",
   "execution_count": null,
   "id": "itkwidgets_pyvista_install",
   "metadata": {},
   "outputs": [],
   "source": [
    "try:\n",
    "    import pyvista\n",
    "except ImportError:\n",
    "    !pip3 install itkwidgets pyvista\n",
    "    import pyvista\n",
    "finally:\n",
    "    import google.colab\n",
    "    google.colab.output.enable_custom_widget_manager()"
   ]
  },
  {
   "cell_type": "code",
   "execution_count": null,
   "id": "multiphenicsx_install",
   "metadata": {},
   "outputs": [],
   "source": [
    "try:\n",
    "    import multiphenicsx\n",
    "except ImportError:\n",
    "    !pip3 install \"multiphenicsx@git+https://github.com/multiphenics/multiphenicsx.git\"\n",
    "    import multiphenicsx"
   ]
  },
  {
   "cell_type": "code",
   "execution_count": null,
   "id": "fenicsx_install",
   "metadata": {},
   "outputs": [],
   "source": [
    "try:\n",
    "    import dolfinx\n",
    "except ImportError:\n",
    "    !wget \"https://fem-on-colab.github.io/releases/fenicsx-install.sh\" -O \"/tmp/fenicsx-install.sh\" && bash \"/tmp/fenicsx-install.sh\"\n",
    "    import dolfinx"
   ]
  },
  {
   "cell_type": "code",
   "execution_count": null,
   "id": "itkwidgets_pyvista_install",
   "metadata": {},
   "outputs": [],
   "source": [
    "try:\n",
    "    import pyvista\n",
    "except ImportError:\n",
    "    !pip3 install itkwidgets pyvista\n",
    "    import pyvista\n",
    "finally:\n",
    "    import google.colab\n",
    "    google.colab.output.enable_custom_widget_manager()"
   ]
  },
  {
   "cell_type": "code",
   "execution_count": null,
   "id": "multiphenicsx_install",
   "metadata": {},
   "outputs": [],
   "source": [
    "try:\n",
    "    import multiphenicsx\n",
    "except ImportError:\n",
    "    !pip3 install \"multiphenicsx@git+https://github.com/multiphenics/multiphenicsx.git\"\n",
    "    import multiphenicsx"
   ]
  },
  {
   "cell_type": "code",
   "execution_count": null,
   "id": "fenicsx_install",
   "metadata": {},
   "outputs": [],
   "source": [
    "try:\n",
    "    import dolfinx\n",
    "except ImportError:\n",
    "    !wget \"https://fem-on-colab.github.io/releases/fenicsx-install.sh\" -O \"/tmp/fenicsx-install.sh\" && bash \"/tmp/fenicsx-install.sh\"\n",
    "    import dolfinx"
   ]
  },
  {
   "cell_type": "code",
   "execution_count": null,
   "id": "itkwidgets_pyvista_install",
   "metadata": {},
   "outputs": [],
   "source": [
    "try:\n",
    "    import pyvista\n",
    "except ImportError:\n",
    "    !pip3 install itkwidgets pyvista\n",
    "    import pyvista\n",
    "finally:\n",
    "    import google.colab\n",
    "    google.colab.output.enable_custom_widget_manager()"
   ]
  },
  {
   "cell_type": "code",
   "execution_count": null,
   "id": "multiphenicsx_install",
   "metadata": {},
   "outputs": [],
   "source": [
    "try:\n",
    "    import multiphenicsx\n",
    "except ImportError:\n",
    "    !pip3 install \"multiphenicsx@git+https://github.com/multiphenics/multiphenicsx.git\"\n",
    "    import multiphenicsx"
   ]
  },
  {
   "cell_type": "code",
   "execution_count": null,
   "id": "fenicsx_install",
   "metadata": {},
   "outputs": [],
   "source": [
    "try:\n",
    "    import dolfinx\n",
    "except ImportError:\n",
    "    !wget \"https://fem-on-colab.github.io/releases/fenicsx-install.sh\" -O \"/tmp/fenicsx-install.sh\" && bash \"/tmp/fenicsx-install.sh\"\n",
    "    import dolfinx"
   ]
  },
  {
   "cell_type": "code",
   "execution_count": null,
   "id": "itkwidgets_pyvista_install",
   "metadata": {},
   "outputs": [],
   "source": [
    "try:\n",
    "    import pyvista\n",
    "except ImportError:\n",
    "    !pip3 install itkwidgets pyvista\n",
    "    import pyvista\n",
    "finally:\n",
    "    import google.colab\n",
    "    google.colab.output.enable_custom_widget_manager()"
   ]
  },
  {
   "cell_type": "code",
   "execution_count": null,
   "id": "multiphenicsx_install",
   "metadata": {},
   "outputs": [],
   "source": [
    "try:\n",
    "    import multiphenicsx\n",
    "except ImportError:\n",
    "    !pip3 install \"multiphenicsx@git+https://github.com/multiphenics/multiphenicsx.git\"\n",
    "    import multiphenicsx"
   ]
  },
  {
   "cell_type": "code",
   "execution_count": null,
   "id": "fenicsx_install",
   "metadata": {},
   "outputs": [],
   "source": [
    "try:\n",
    "    import dolfinx\n",
    "except ImportError:\n",
    "    !wget \"https://fem-on-colab.github.io/releases/fenicsx-install.sh\" -O \"/tmp/fenicsx-install.sh\" && bash \"/tmp/fenicsx-install.sh\"\n",
    "    import dolfinx"
   ]
  },
  {
   "cell_type": "code",
   "execution_count": null,
   "id": "itkwidgets_pyvista_install",
   "metadata": {},
   "outputs": [],
   "source": [
    "try:\n",
    "    import pyvista\n",
    "except ImportError:\n",
    "    !pip3 install itkwidgets pyvista\n",
    "    import pyvista\n",
    "finally:\n",
    "    import google.colab\n",
    "    google.colab.output.enable_custom_widget_manager()"
   ]
  },
  {
   "cell_type": "code",
   "execution_count": null,
   "id": "multiphenicsx_install",
   "metadata": {},
   "outputs": [],
   "source": [
    "try:\n",
    "    import multiphenicsx\n",
    "except ImportError:\n",
    "    !pip3 install \"multiphenicsx@git+https://github.com/multiphenics/multiphenicsx.git\"\n",
    "    import multiphenicsx"
   ]
  },
  {
   "cell_type": "code",
   "execution_count": null,
   "id": "fenicsx_install",
   "metadata": {},
   "outputs": [],
   "source": [
    "try:\n",
    "    import dolfinx\n",
    "except ImportError:\n",
    "    !wget \"https://fem-on-colab.github.io/releases/fenicsx-install.sh\" -O \"/tmp/fenicsx-install.sh\" && bash \"/tmp/fenicsx-install.sh\"\n",
    "    import dolfinx"
   ]
  },
  {
   "cell_type": "code",
   "execution_count": null,
   "id": "itkwidgets_pyvista_install",
   "metadata": {},
   "outputs": [],
   "source": [
    "try:\n",
    "    import pyvista\n",
    "except ImportError:\n",
    "    !pip3 install itkwidgets pyvista\n",
    "    import pyvista\n",
    "finally:\n",
    "    import google.colab\n",
    "    google.colab.output.enable_custom_widget_manager()"
   ]
  },
  {
   "cell_type": "code",
   "execution_count": null,
   "id": "multiphenicsx_install",
   "metadata": {},
   "outputs": [],
   "source": [
    "try:\n",
    "    import multiphenicsx\n",
    "except ImportError:\n",
    "    !pip3 install \"multiphenicsx@git+https://github.com/multiphenics/multiphenicsx.git\"\n",
    "    import multiphenicsx"
   ]
  },
  {
   "cell_type": "code",
   "execution_count": null,
   "id": "fenicsx_install",
   "metadata": {},
   "outputs": [],
   "source": [
    "try:\n",
    "    import dolfinx\n",
    "except ImportError:\n",
    "    !wget \"https://fem-on-colab.github.io/releases/fenicsx-install.sh\" -O \"/tmp/fenicsx-install.sh\" && bash \"/tmp/fenicsx-install.sh\"\n",
    "    import dolfinx"
   ]
  },
  {
   "cell_type": "code",
   "execution_count": null,
   "id": "itkwidgets_pyvista_install",
   "metadata": {},
   "outputs": [],
   "source": [
    "try:\n",
    "    import pyvista\n",
    "except ImportError:\n",
    "    !pip3 install itkwidgets pyvista\n",
    "    import pyvista\n",
    "finally:\n",
    "    import google.colab\n",
    "    google.colab.output.enable_custom_widget_manager()"
   ]
  },
  {
   "cell_type": "code",
   "execution_count": null,
   "id": "multiphenicsx_install",
   "metadata": {},
   "outputs": [],
   "source": [
    "try:\n",
    "    import multiphenicsx\n",
    "except ImportError:\n",
    "    !pip3 install \"multiphenicsx@git+https://github.com/multiphenics/multiphenicsx.git\"\n",
    "    import multiphenicsx"
   ]
  },
  {
   "cell_type": "code",
   "execution_count": null,
   "metadata": {},
   "outputs": [],
   "source": [
    "import abc\n",
    "import typing"
   ]
  },
  {
   "cell_type": "code",
   "execution_count": null,
   "metadata": {},
   "outputs": [],
   "source": [
    "import dolfinx.cpp\n",
    "import dolfinx.fem\n",
    "import dolfinx.io\n",
    "import dolfinx.mesh\n",
    "import mpi4py.MPI\n",
    "import numpy as np\n",
    "import numpy.typing\n",
    "import petsc4py.PETSc  # noqa: F401\n",
    "import ufl"
   ]
  },
  {
   "cell_type": "code",
   "execution_count": null,
   "metadata": {},
   "outputs": [],
   "source": [
    "import multiphenicsx.fem\n",
    "import multiphenicsx.io"
   ]
  },
  {
   "cell_type": "markdown",
   "metadata": {},
   "source": [
    "### Mesh"
   ]
  },
  {
   "cell_type": "code",
   "execution_count": null,
   "metadata": {},
   "outputs": [],
   "source": [
    "# Construct mesh\n",
    "if mpi4py.MPI.COMM_WORLD.size > 1:\n",
    "    mesh_ghost_mode = dolfinx.mesh.GhostMode.shared_facet  # shared_facet ghost mode is required by dS\n",
    "else:\n",
    "    mesh_ghost_mode = dolfinx.mesh.GhostMode.none\n",
    "mesh = dolfinx.mesh.create_rectangle(\n",
    "    mpi4py.MPI.COMM_WORLD, [np.array([-1.0, -2.0]), np.array([1.0, 2.0])], [50, 100], ghost_mode=mesh_ghost_mode)"
   ]
  },
  {
   "cell_type": "code",
   "execution_count": null,
   "metadata": {},
   "outputs": [],
   "source": [
    "# Helper functions for boundaries and subdomains marking\n",
    "eps = np.finfo(float).eps\n",
    "\n",
    "\n",
    "def near(x: np.typing.NDArray[np.float64], a: float) -> np.typing.NDArray[np.bool_]:\n",
    "    \"\"\"Determine if the coordinate x is near a.\"\"\"\n",
    "    return np.abs(x - a) < eps\n",
    "\n",
    "\n",
    "def above(x: np.typing.NDArray[np.float64], a: float) -> np.typing.NDArray[np.bool_]:\n",
    "    \"\"\"Determine if the coordinate x is above a.\"\"\"\n",
    "    return x > a - eps\n",
    "\n",
    "\n",
    "def below(x: np.typing.NDArray[np.float64], a: float) -> np.typing.NDArray[np.bool_]:\n",
    "    \"\"\"Determine if the coordinate x is below a.\"\"\"\n",
    "    return x < a + eps\n",
    "\n",
    "\n",
    "def between(\n",
    "    x: np.typing.NDArray[np.float64], interval: typing.Tuple[float, float]\n",
    ") -> np.typing.NDArray[np.bool_]:\n",
    "    \"\"\"Determine if the coordinate x is between interval[0] and interval[1].\"\"\"\n",
    "    return np.logical_and(above(x, interval[0]), below(x, interval[1]))"
   ]
  },
  {
   "cell_type": "code",
   "execution_count": null,
   "metadata": {},
   "outputs": [],
   "source": [
    "class CallableWithID(abc.ABC):\n",
    "    \"\"\"Callable that also stores an id attribute.\"\"\"\n",
    "\n",
    "    id = 0\n",
    "\n",
    "    @abc.abstractmethod\n",
    "    def __call__(self, x: np.typing.NDArray[np.float64]) -> np.typing.NDArray[np.bool_]:\n",
    "        \"\"\"Call operator.\"\"\"\n",
    "        pass"
   ]
  },
  {
   "cell_type": "code",
   "execution_count": null,
   "metadata": {},
   "outputs": [],
   "source": [
    "# Set subdomains\n",
    "class DarcySubdomain(CallableWithID):\n",
    "    \"\"\"Callable that defines the Darcy subdomain.\"\"\"\n",
    "\n",
    "    id = 1\n",
    "\n",
    "    def __call__(self, x: np.typing.NDArray[np.float64]) -> np.typing.NDArray[np.bool_]:\n",
    "        \"\"\"Condition that defines the Darcy subdomain.\"\"\"\n",
    "        return below(x[1], 0.0)\n",
    "\n",
    "\n",
    "class StokesSubdomain(CallableWithID):\n",
    "    \"\"\"Callable that defines the Stokes subdomain.\"\"\"\n",
    "\n",
    "    id = 2\n",
    "\n",
    "    def __call__(self, x: np.typing.NDArray[np.float64]) -> np.typing.NDArray[np.bool_]:\n",
    "        \"\"\"Condition that defines the Stokes subdomain.\"\"\"\n",
    "        return above(x[1], 0.0)\n",
    "\n",
    "\n",
    "darcy = DarcySubdomain()\n",
    "stokes = StokesSubdomain()\n",
    "\n",
    "subdomains_entities = dict()\n",
    "subdomains_values = dict()\n",
    "for subdomain in (darcy, stokes):\n",
    "    subdomains_entities[subdomain.id] = dolfinx.mesh.locate_entities(\n",
    "        mesh, mesh.topology.dim, subdomain)\n",
    "    subdomains_values[subdomain.id] = np.full(\n",
    "        subdomains_entities[subdomain.id].shape, subdomain.id, dtype=np.int32)\n",
    "subdomains = dolfinx.cpp.mesh.MeshTags_int32(\n",
    "    mesh, mesh.topology.dim,\n",
    "    np.hstack(list(subdomains_entities.values())), np.hstack(list(subdomains_values.values())))"
   ]
  },
  {
   "cell_type": "code",
   "execution_count": null,
   "metadata": {},
   "outputs": [],
   "source": [
    "# Set boundaries and interface\n",
    "class OutletBoundary(CallableWithID):\n",
    "    \"\"\"Callable that defines the outlet boundary.\"\"\"\n",
    "\n",
    "    id = 1\n",
    "\n",
    "    def __call__(self, x: np.typing.NDArray[np.float64]) -> np.typing.NDArray[np.bool_]:\n",
    "        \"\"\"Condition that defines the outlet.\"\"\"\n",
    "        return near(x[1], -2.0)\n",
    "\n",
    "\n",
    "class InletBoundary(CallableWithID):\n",
    "    \"\"\"Callable that defines the inlet boundary.\"\"\"\n",
    "\n",
    "    id = 2\n",
    "\n",
    "    def __call__(self, x: np.typing.NDArray[np.float64]) -> np.typing.NDArray[np.bool_]:\n",
    "        \"\"\"Condition that defines the inlet.\"\"\"\n",
    "        return near(x[1], 2.0)\n",
    "\n",
    "\n",
    "class Interface(CallableWithID):\n",
    "    \"\"\"Callable that defines the interface.\"\"\"\n",
    "\n",
    "    id = 3\n",
    "\n",
    "    def __call__(self, x: np.typing.NDArray[np.float64]) -> np.typing.NDArray[np.bool_]:\n",
    "        \"\"\"Condition that defines the interface.\"\"\"\n",
    "        return near(x[1], 0.0)\n",
    "\n",
    "\n",
    "class WallStokesBoundary(CallableWithID):\n",
    "    \"\"\"Callable that defines the wall for the Stokes problem.\"\"\"\n",
    "\n",
    "    id = 4\n",
    "\n",
    "    def __call__(self, x: np.typing.NDArray[np.float64]) -> np.typing.NDArray[np.bool_]:\n",
    "        \"\"\"Condition that defines the wall for the Stokes problem.\"\"\"\n",
    "        return np.logical_or(\n",
    "            np.logical_and(near(x[0], 1.0), between(x[1], (0.0, 2.0))),\n",
    "            np.logical_and(near(x[0], -1.0), between(x[1], (0.0, 2.0)))\n",
    "        )\n",
    "\n",
    "\n",
    "class WallDarcyBoundary(CallableWithID):\n",
    "    \"\"\"Callable that defines the wall for the Darcy problem.\"\"\"\n",
    "\n",
    "    id = 5\n",
    "\n",
    "    def __call__(self, x: np.typing.NDArray[np.float64]) -> np.typing.NDArray[np.bool_]:\n",
    "        \"\"\"Condition that defines the wall for the Darcy problem.\"\"\"\n",
    "        return np.logical_or(\n",
    "            np.logical_and(near(x[0], 1.0), between(x[1], (-2.0, 0.0))),\n",
    "            np.logical_and(near(x[0], -1.0), between(x[1], (-2.0, 0.0)))\n",
    "        )\n",
    "\n",
    "\n",
    "outlet = OutletBoundary()\n",
    "inlet = InletBoundary()\n",
    "interface = Interface()\n",
    "wall_stokes = WallStokesBoundary()\n",
    "wall_darcy = WallDarcyBoundary()\n",
    "\n",
    "boundaries_entities = dict()\n",
    "boundaries_values = dict()\n",
    "for boundary in (outlet, inlet, interface, wall_stokes, wall_darcy):\n",
    "    boundaries_entities[boundary.id] = dolfinx.mesh.locate_entities(\n",
    "        mesh, mesh.topology.dim - 1, boundary)\n",
    "    boundaries_values[boundary.id] = np.full(\n",
    "        boundaries_entities[boundary.id].shape, boundary.id, dtype=np.int32)\n",
    "boundaries = dolfinx.cpp.mesh.MeshTags_int32(\n",
    "    mesh, mesh.topology.dim - 1,\n",
    "    np.hstack(list(boundaries_entities.values())), np.hstack(list(boundaries_values.values())))"
   ]
  },
  {
   "cell_type": "code",
   "execution_count": null,
   "metadata": {},
   "outputs": [],
   "source": [
    "# Define associated measures\n",
    "dx = ufl.Measure(\"dx\")(subdomain_data=subdomains)\n",
    "dS = ufl.Measure(\"dS\")(subdomain_data=boundaries)"
   ]
  },
  {
   "cell_type": "code",
   "execution_count": null,
   "metadata": {},
   "outputs": [],
   "source": [
    "# PYTEST_XFAIL_IN_PARALLEL: Area and length computation currently fails in parallel\n",
    "# Verify the domain size\n",
    "\"\"\"\n",
    "one = dolfinx.fem.Constant(mesh, petsc4py.PETSc.ScalarType(1.0))\n",
    "areaD = mesh.comm.allreduce(\n",
    "    dolfinx.fem.assemble_scalar(dolfinx.fem.form(one * dx(darcy.id))), op=mpi4py.MPI.SUM)\n",
    "areaS = mesh.comm.allreduce(\n",
    "    dolfinx.fem.assemble_scalar(dolfinx.fem.form(one * dx(stokes.id))), op=mpi4py.MPI.SUM)\n",
    "lengthI = mesh.comm.allreduce(\n",
    "    dolfinx.fem.assemble_scalar(dolfinx.fem.form(one * dS(interface.id))), op=mpi4py.MPI.SUM)\n",
    "print(\"area(Omega_D) = \", areaD)\n",
    "print(\"area(Omega_S) = \", areaS)\n",
    "print(\"length(Sigma) = \", lengthI)\n",
    "assert np.isclose(areaD, 4.)\n",
    "assert np.isclose(areaS, 4.)\n",
    "assert np.isclose(lengthI, 2.)\n",
    "\"\"\"  # noqa: D"
   ]
  },
  {
   "cell_type": "code",
   "execution_count": null,
   "metadata": {},
   "outputs": [],
   "source": [
    "# Normal and tangent\n",
    "n = ufl.FacetNormal(mesh)\n",
    "t = ufl.as_vector([n[1], -n[0]])"
   ]
  },
  {
   "cell_type": "code",
   "execution_count": null,
   "metadata": {},
   "outputs": [],
   "source": [
    "multiphenicsx.io.plot_mesh(mesh)"
   ]
  },
  {
   "cell_type": "code",
   "execution_count": null,
   "metadata": {},
   "outputs": [],
   "source": [
    "multiphenicsx.io.plot_mesh_tags(subdomains)"
   ]
  },
  {
   "cell_type": "code",
   "execution_count": null,
   "metadata": {},
   "outputs": [],
   "source": [
    "multiphenicsx.io.plot_mesh_tags(boundaries)"
   ]
  },
  {
   "cell_type": "markdown",
   "metadata": {},
   "source": [
    "### Function spaces"
   ]
  },
  {
   "cell_type": "code",
   "execution_count": null,
   "metadata": {},
   "outputs": [],
   "source": [
    "# PYTEST_XFAIL_AND_SKIP_NEXT: Temporarily broken due to lack of suport for BDM/RT in basix\n",
    "\"\"\"\n",
    "P2v = dolfinx.fem.VectorFunctionSpace(mesh, (\"CG\", 2))  # uS\n",
    "BDM1 = dolfinx.fem.FunctionSpace(mesh, (\"BDM\", 1))  # uD. It can also be RT\n",
    "P1 = dolfinx.fem.FunctionSpace(mesh, (\"CG\", 1))  # pS\n",
    "P0 = dolfinx.fem.FunctionSpace(mesh, (\"DG\", 0))  # pD\n",
    "Pt = dolfinx.fem.FunctionSpace(mesh, (\"DGT\", 1))  # la\n",
    "\"\"\"  # noqa: D"
   ]
  },
  {
   "cell_type": "markdown",
   "metadata": {},
   "source": [
    "### Restrictions"
   ]
  },
  {
   "cell_type": "code",
   "execution_count": null,
   "metadata": {},
   "outputs": [],
   "source": [
    "\"\"\"\n",
    "# Define restrictions\n",
    "dofs_P2v = dolfinx.fem.locate_dofs_topological(P2v, subdomains.dim, subdomains_entities[stokes.id])\n",
    "dofs_BDM1 = dolfinx.fem.locate_dofs_topological(BDM1, subdomains.dim, subdomains_entities[darcy.id])\n",
    "dofs_P1 = dolfinx.fem.locate_dofs_topological(P1, subdomains.dim, subdomains_entities[stokes.id])\n",
    "dofs_P0 = dolfinx.fem.locate_dofs_topological(P0, subdomains.dim, subdomains_entities[darcy.id])\n",
    "dofs_Pt = dolfinx.fem.locate_dofs_topological(Pt, boundaries.dim, boundaries_entities[interface.id])\n",
    "restriction = [\n",
    "    multiphenicsx.fem.DofMapRestriction(V.dofmap, dofs) for (V, dofs) in zip(\n",
    "        (P2v, BDM1, P1, P0, Pt), (dofs_P2v, dofs_BDM1, dofs_P1, dofs_P0, dofs_Pt))]\n",
    "\"\"\"  # noqa: D"
   ]
  },
  {
   "cell_type": "markdown",
   "metadata": {},
   "source": [
    "### Trial and test functions"
   ]
  },
  {
   "cell_type": "code",
   "execution_count": null,
   "metadata": {},
   "outputs": [],
   "source": [
    "\"\"\"\n",
    "# Define trial and test functions\n",
    "uS, uD, pS, pD, la = [ufl.TrialFunction(V) for V in (P2v, BDM1, P1, P0, Pt)]\n",
    "vS, vD, qS, qD, xi = [ufl.TestFunction(V) for V in (P2v, BDM1, P1, P0, Pt)]\n",
    "\"\"\"  # noqa: D"
   ]
  },
  {
   "cell_type": "markdown",
   "metadata": {},
   "source": [
    "### Problem data"
   ]
  },
  {
   "cell_type": "code",
   "execution_count": null,
   "metadata": {},
   "outputs": [],
   "source": [
    "\"\"\"\n",
    "mu = 1.\n",
    "alpha = 1.\n",
    "k = 1.\n",
    "fS = dolfinx.fem.Constant(mesh, (0., 0.))\n",
    "fD = fS\n",
    "gS = dolfinx.fem.Constant(mesh, 0.)\n",
    "gD = gS\n",
    "\"\"\"  # noqa: D"
   ]
  },
  {
   "cell_type": "markdown",
   "metadata": {},
   "source": [
    "### Weak formulation and boundary conditions"
   ]
  },
  {
   "cell_type": "code",
   "execution_count": null,
   "metadata": {},
   "outputs": [],
   "source": [
    "'''\n",
    "def epsilon(vec: ufl.Argument) -> ufl.core.expr.Expr:  # type: ignore[no-any-unimported]\n",
    "    \"\"\"Compute the symmetric part of the gradient.\"\"\"\n",
    "    return ufl.sym(ufl.grad(vec))\n",
    "\n",
    "\n",
    "AS = (2.0 * mu * ufl.inner(epsilon(uS), epsilon(vS)) * dx(stokes.id)\n",
    "      + mu * alpha * pow(k, -0.5) * ufl.inner(\n",
    "          ufl.dot(uS(\"+\"), t(\"+\")), ufl.dot(vS(\"+\"), t(\"+\"))) * dS(interface.id))\n",
    "\n",
    "AD = mu / k * ufl.inner(uD, vD) * dx(darcy.id)\n",
    "\n",
    "B1St = - ufl.inner(pS, ufl.div(vS)) * dx(stokes.id)\n",
    "B1S = - ufl.inner(ufl.div(uS), qS) * dx(stokes.id)\n",
    "B1Dt = - ufl.inner(pD, ufl.div(vD)) * dx(darcy.id)\n",
    "B1D = - ufl.inner(ufl.div(uD), qD) * dx(darcy.id)\n",
    "\n",
    "B2St = ufl.inner(ufl.avg(la), ufl.dot(vS(\"+\"), n(\"+\"))) * dS(interface.id)\n",
    "B2S = ufl.inner(ufl.dot(uS(\"+\"), n(\"+\")), ufl.avg(xi)) * dS(interface.id)\n",
    "B2Dt = ufl.inner(ufl.avg(la), ufl.dot(vD(\"-\"), n(\"-\"))) * dS(interface.id)\n",
    "B2D = ufl.inner(ufl.dot(uD(\"-\"), n(\"-\")), ufl.avg(xi)) * dS(interface.id)\n",
    "\n",
    "FuS = ufl.inner(fS, vS) * dx(stokes.id)\n",
    "FuD = ufl.inner(fD, vD) * dx(darcy.id)\n",
    "GqS = - ufl.inner(gS, qS) * dx(stokes.id)\n",
    "GqD = - ufl.inner(gD, qD) * dx(darcy.id)\n",
    "'''  # noqa: D"
   ]
  },
  {
   "cell_type": "code",
   "execution_count": null,
   "metadata": {},
   "outputs": [],
   "source": [
    "\"\"\"\n",
    "lhs = [[AS, None, B1St, None, B2St],\n",
    "       [None, AD, None, B1Dt, B2Dt],\n",
    "       [B1S, None, None, None, None],\n",
    "       [None, B1D, None, None, None],\n",
    "       [B2S, B2D, None, None, None]]\n",
    "rhs = [FuS, FuD, GqS, GqD, None]\n",
    "\n",
    "lhs[0][0] += dolfinx.fem.Constant(mesh, petsc4py.PETSc.ScalarType(0)) * ufl.inner(uS, vS) * dx\n",
    "lhs[1][1] += dolfinx.fem.Constant(mesh, petsc4py.PETSc.ScalarType(0)) * ufl.inner(uD, vD) * dx\n",
    "lhs[2][2] = dolfinx.fem.Constant(mesh, petsc4py.PETSc.ScalarType(0)) * ufl.inner(pS, qS) * dx\n",
    "lhs[3][3] = dolfinx.fem.Constant(mesh, petsc4py.PETSc.ScalarType(0)) * ufl.inner(pD, qD) * dx\n",
    "lhs[4][4] = dolfinx.fem.Constant(mesh, petsc4py.PETSc.ScalarType(0)) * ufl.inner(\n",
    "    ufl.avg(la), ufl.avg(xi)) * dS(interface.id)\n",
    "rhs[-1] = ufl.inner(dolfinx.fem.Constant(mesh, petsc4py.PETSc.ScalarType(0)), ufl.avg(xi)) * dS(interface.id)\n",
    "\n",
    "lhs_cpp = dolfinx.fem.form(lhs)\n",
    "rhs_cpp = dolfinx.fem.form(rhs)\n",
    "\"\"\"  # noqa: D"
   ]
  },
  {
   "cell_type": "code",
   "execution_count": null,
   "metadata": {},
   "outputs": [],
   "source": [
    "'''\n",
    "def inflow_eval(x: np.typing.NDArray[np.float64]) -> np.typing.NDArray[  # type: ignore[no-any-unimported]\n",
    "        petsc4py.PETSc.ScalarType]:\n",
    "    \"\"\"Return the profile at the inflow.\"\"\"\n",
    "    values = np.zeros((2, x.shape[1]))\n",
    "    values[1, :] = x[0, :]**2 - 1.0\n",
    "    return values\n",
    "\n",
    "\n",
    "inflow = dolfinx.fem.Function(P2v)\n",
    "inflow.interpolate(inflow_eval)\n",
    "noSlip0 = dolfinx.fem.Function(P2v)\n",
    "noSlip1 = dolfinx.fem.Function(BDM1)\n",
    "\n",
    "bdofs_inlet = dolfinx.fem.locate_dofs_topological(P2v, mesh.topology.dim - 1, boundaries_entities[inlet.id])\n",
    "bdofs_wallS = dolfinx.fem.locate_dofs_topological(P2v, mesh.topology.dim - 1, boundaries_entities[wall_stokes.id])\n",
    "bdofs_wallD = dolfinx.fem.locate_dofs_topological(BDM1, mesh.topology.dim - 1, boundaries_entities[wall_darcy.id])\n",
    "bcUin = dolfinx.fem.dirichletbc(inflow, bdofs_inlet)\n",
    "bcUS = dolfinx.fem.dirichletbc(noSlip0, bdofs_wallS)\n",
    "bcUD = dolfinx.fem.dirichletbc(noSlip1, bdofs_wallD)\n",
    "bcs = [bcUin, bcUS, bcUD]\n",
    "'''  # noqa: D"
   ]
  },
  {
   "cell_type": "markdown",
   "metadata": {},
   "source": [
    "### Solve multiphysics system"
   ]
  },
  {
   "cell_type": "code",
   "execution_count": null,
   "metadata": {},
   "outputs": [],
   "source": [
    "\"\"\"\n",
    "# Assemble the block linear system\n",
    "A = multiphenicsx.fem.petsc.assemble_matrix_block(lhs_cpp, bcs=bcs, restriction=(restriction, restriction))\n",
    "A.assemble()\n",
    "F = multiphenicsx.fem.petsc.assemble_vector_block(rhs_cpp, lhs_cpp, bcs=bcs, restriction=restriction)\n",
    "\"\"\"  # noqa: D"
   ]
  },
  {
   "cell_type": "code",
   "execution_count": null,
   "metadata": {},
   "outputs": [],
   "source": [
    "\"\"\"\n",
    "# Solve\n",
    "solution = multiphenicsx.fem.petsc.create_vector_block(rhs_cpp, restriction=restriction)\n",
    "ksp = petsc4py.PETSc.KSP()\n",
    "ksp.create(mesh.comm)\n",
    "ksp.setOperators(A)\n",
    "ksp.setType(\"preonly\")\n",
    "ksp.getPC().setType(\"lu\")\n",
    "ksp.getPC().setFactorSolverType(\"mumps\")\n",
    "ksp.setFromOptions()\n",
    "ksp.solve(F, solution)\n",
    "solution.ghostUpdate(addv=petsc4py.PETSc.InsertMode.INSERT, mode=petsc4py.PETSc.ScatterMode.FORWARD)\n",
    "\"\"\"  # noqa: D"
   ]
  },
  {
   "cell_type": "code",
   "execution_count": null,
   "metadata": {},
   "outputs": [],
   "source": [
    "\"\"\"\n",
    "# Split the block solution in components\n",
    "uS_h, uD_h, pS_h, pD_h, la_h = [dolfinx.fem.Function(V) for V in (P2v, BDM1, P1, P0, Pt)]\n",
    "with multiphenicsx.fem.petsc.BlockVecSubVectorWrapper(\n",
    "        solution, [V.dofmap for V in (P2v, BDM1, P1, P0, Pt)], restriction) as solution_wrapper:\n",
    "    for solution_wrapper_local, component in zip(solution_wrapper, (uS_h, uD_h, pS_h, pD_h, la_h)):\n",
    "        with component.vector.localForm() as component_local:\n",
    "            component_local[:] = solution_wrapper_local\n",
    "\"\"\"  # noqa: D"
   ]
  },
  {
   "cell_type": "code",
   "execution_count": null,
   "metadata": {},
   "outputs": [],
   "source": [
    "\"\"\"\n",
    "assert np.isclose(uS_h.vector.norm(petsc4py.PETSc.NormType.NORM_2), 73.46630)\n",
    "assert np.isclose(uD_h.vector.norm(petsc4py.PETSc.NormType.NORM_2), 2.709167)\n",
    "assert np.isclose(pS_h.vector.norm(petsc4py.PETSc.NormType.NORM_2), 174.8691)\n",
    "assert np.isclose(pD_h.vector.norm(petsc4py.PETSc.NormType.NORM_2), 54.34432)\n",
    "\"\"\"  # noqa: D"
   ]
  }
 ],
 "metadata": {
  "kernelspec": {
   "display_name": "Python 3 (ipykernel)",
   "language": "python",
   "name": "python3"
  },
  "language_info": {
   "codemirror_mode": {
    "name": "ipython"
   },
   "file_extension": ".py",
   "mimetype": "text/x-python",
   "name": "python",
   "nbconvert_exporter": "python"
  }
 },
 "nbformat": 4,
 "nbformat_minor": 2
}
