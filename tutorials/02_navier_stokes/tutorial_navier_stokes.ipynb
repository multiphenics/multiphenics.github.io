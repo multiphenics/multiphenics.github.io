{
 "cells": [
  {
   "cell_type": "markdown",
   "metadata": {},
   "source": [
    "# Tutorial 02: Navier-Stokes problem\n",
    "\n",
    "In this tutorial we compare the formulation of a Navier-Stokes problem using standard assembly with mixed function spaces and block assembly."
   ]
  },
  {
   "cell_type": "code",
   "execution_count": null,
   "id": "fenicsx_install",
   "metadata": {},
   "outputs": [],
   "source": [
    "try:\n",
    "    import dolfinx\n",
    "except ImportError:\n",
    "    !wget \"https://fem-on-colab.github.io/releases/fenicsx-install.sh\" -O \"/tmp/fenicsx-install.sh\" && bash \"/tmp/fenicsx-install.sh\"\n",
    "    import dolfinx"
   ]
  },
  {
   "cell_type": "code",
   "execution_count": null,
   "id": "gmsh_install",
   "metadata": {},
   "outputs": [],
   "source": [
    "try:\n",
    "    import gmsh\n",
    "except ImportError:\n",
    "    !wget \"https://fem-on-colab.github.io/releases/gmsh-install.sh\" -O \"/tmp/gmsh-install.sh\" && bash \"/tmp/gmsh-install.sh\"\n",
    "    import gmsh"
   ]
  },
  {
   "cell_type": "code",
   "execution_count": null,
   "id": "itkwidgets_pyvista_install",
   "metadata": {},
   "outputs": [],
   "source": [
    "try:\n",
    "    import pyvista\n",
    "except ImportError:\n",
    "    !pip3 install itkwidgets pyvista\n",
    "    import pyvista\n",
    "finally:\n",
    "    import google.colab\n",
    "    google.colab.output.enable_custom_widget_manager()"
   ]
  },
  {
   "cell_type": "code",
   "execution_count": null,
   "id": "multiphenicsx_install",
   "metadata": {},
   "outputs": [],
   "source": [
    "try:\n",
    "    import multiphenicsx\n",
    "except ImportError:\n",
    "    !pip3 install \"multiphenicsx@git+https://github.com/multiphenics/multiphenicsx.git\"\n",
    "    import multiphenicsx"
   ]
  },
  {
   "cell_type": "code",
   "execution_count": null,
   "metadata": {},
   "outputs": [],
   "source": [
    "import typing"
   ]
  },
  {
   "cell_type": "code",
   "execution_count": null,
   "metadata": {},
   "outputs": [],
   "source": [
    "import dolfinx.fem\n",
    "import dolfinx.io\n",
    "import gmsh\n",
    "import mpi4py\n",
    "import numpy as np\n",
    "import petsc4py\n",
    "import ufl"
   ]
  },
  {
   "cell_type": "code",
   "execution_count": null,
   "metadata": {},
   "outputs": [],
   "source": [
    "import multiphenicsx.fem\n",
    "import multiphenicsx.io\n",
    "import multiphenicsx.mesh"
   ]
  },
  {
   "cell_type": "markdown",
   "metadata": {},
   "source": [
    "### Constitutive parameters"
   ]
  },
  {
   "cell_type": "code",
   "execution_count": null,
   "metadata": {},
   "outputs": [],
   "source": [
    "nu = 0.01\n",
    "\n",
    "\n",
    "def u_in_eval(x: np.typing.NDArray[np.float64]) -> np.typing.NDArray[petsc4py.PETSc.ScalarType]:\n",
    "    \"\"\"Return the flat velocity profile at the inlet.\"\"\"\n",
    "    values = np.zeros((2, x.shape[1]))\n",
    "    values[0, :] = 1.0\n",
    "    return values\n",
    "\n",
    "\n",
    "def u_wall_eval(x: np.typing.NDArray[np.float64]) -> np.typing.NDArray[petsc4py.PETSc.ScalarType]:\n",
    "    \"\"\"Return the zero velocity at the wall.\"\"\"\n",
    "    return np.zeros((2, x.shape[1]))"
   ]
  },
  {
   "cell_type": "markdown",
   "metadata": {},
   "source": [
    "### Geometrical parameters"
   ]
  },
  {
   "cell_type": "code",
   "execution_count": null,
   "metadata": {},
   "outputs": [],
   "source": [
    "pre_step_length = 4.\n",
    "after_step_length = 14.\n",
    "pre_step_height = 3.\n",
    "after_step_height = 5.\n",
    "lcar = 1. / 5."
   ]
  },
  {
   "cell_type": "markdown",
   "metadata": {},
   "source": [
    "### Mesh"
   ]
  },
  {
   "cell_type": "code",
   "execution_count": null,
   "metadata": {},
   "outputs": [],
   "source": [
    "gmsh.initialize()\n",
    "gmsh.model.add(\"mesh\")"
   ]
  },
  {
   "cell_type": "code",
   "execution_count": null,
   "metadata": {},
   "outputs": [],
   "source": [
    "p0 = gmsh.model.geo.addPoint(0.0, after_step_height - pre_step_height, 0.0, lcar)\n",
    "p1 = gmsh.model.geo.addPoint(pre_step_length, after_step_height - pre_step_height, 0.0, lcar)\n",
    "p2 = gmsh.model.geo.addPoint(pre_step_length, 0.0, 0.0, lcar)\n",
    "p3 = gmsh.model.geo.addPoint(pre_step_length + after_step_length, 0.0, 0.0, lcar)\n",
    "p4 = gmsh.model.geo.addPoint(pre_step_length + after_step_length, after_step_height, 0.0, lcar)\n",
    "p5 = gmsh.model.geo.addPoint(0.0, after_step_height, 0.0, lcar)\n",
    "l0 = gmsh.model.geo.addLine(p0, p1)\n",
    "l1 = gmsh.model.geo.addLine(p1, p2)\n",
    "l2 = gmsh.model.geo.addLine(p2, p3)\n",
    "l3 = gmsh.model.geo.addLine(p3, p4)\n",
    "l4 = gmsh.model.geo.addLine(p4, p5)\n",
    "l5 = gmsh.model.geo.addLine(p5, p0)\n",
    "line_loop = gmsh.model.geo.addCurveLoop([l0, l1, l2, l3, l4, l5])\n",
    "domain = gmsh.model.geo.addPlaneSurface([line_loop])"
   ]
  },
  {
   "cell_type": "code",
   "execution_count": null,
   "metadata": {},
   "outputs": [],
   "source": [
    "gmsh.model.geo.synchronize()\n",
    "gmsh.model.addPhysicalGroup(1, [l5], 1)\n",
    "gmsh.model.addPhysicalGroup(1, [l0, l1, l2, l4], 2)\n",
    "gmsh.model.addPhysicalGroup(2, [domain], 0)\n",
    "gmsh.model.mesh.generate(2)"
   ]
  },
  {
   "cell_type": "code",
   "execution_count": null,
   "metadata": {},
   "outputs": [],
   "source": [
    "mesh, subdomains, boundaries = multiphenicsx.mesh.gmsh_to_fenicsx(gmsh.model, gdim=2)\n",
    "gmsh.finalize()"
   ]
  },
  {
   "cell_type": "code",
   "execution_count": null,
   "metadata": {},
   "outputs": [],
   "source": [
    "boundaries_1 = boundaries.indices[boundaries.values == 1]\n",
    "boundaries_2 = boundaries.indices[boundaries.values == 2]"
   ]
  },
  {
   "cell_type": "code",
   "execution_count": null,
   "metadata": {},
   "outputs": [],
   "source": [
    "multiphenicsx.io.plot_mesh(mesh)"
   ]
  },
  {
   "cell_type": "code",
   "execution_count": null,
   "metadata": {},
   "outputs": [],
   "source": [
    "multiphenicsx.io.plot_mesh_tags(boundaries)"
   ]
  },
  {
   "cell_type": "code",
   "execution_count": null,
   "metadata": {},
   "outputs": [],
   "source": [
    "multiphenicsx.io.plot_mesh_entities(mesh, mesh.topology.dim - 1, boundaries_1)"
   ]
  },
  {
   "cell_type": "code",
   "execution_count": null,
   "metadata": {},
   "outputs": [],
   "source": [
    "multiphenicsx.io.plot_mesh_entities(mesh, mesh.topology.dim - 1, boundaries_2)"
   ]
  },
  {
   "cell_type": "markdown",
   "metadata": {},
   "source": [
    "### Function spaces"
   ]
  },
  {
   "cell_type": "code",
   "execution_count": null,
   "metadata": {},
   "outputs": [],
   "source": [
    "V_element = ufl.VectorElement(\"Lagrange\", mesh.ufl_cell(), 2)\n",
    "Q_element = ufl.FiniteElement(\"Lagrange\", mesh.ufl_cell(), 1)"
   ]
  },
  {
   "cell_type": "markdown",
   "metadata": {},
   "source": [
    "### Standard FEniCSx formulation using a mixed function space"
   ]
  },
  {
   "cell_type": "code",
   "execution_count": null,
   "metadata": {},
   "outputs": [],
   "source": [
    "def run_monolithic() -> dolfinx.fem.Function:\n",
    "    \"\"\"Run standard FEniCSx formulation using a mixed function space.\"\"\"\n",
    "    # Function spaces\n",
    "    W_element = ufl.MixedElement(V_element, Q_element)\n",
    "    W = dolfinx.fem.FunctionSpace(mesh, W_element)\n",
    "\n",
    "    # Test and trial functions: monolithic\n",
    "    vq = ufl.TestFunction(W)\n",
    "    (v, q) = ufl.split(vq)\n",
    "    dup = ufl.TrialFunction(W)\n",
    "    up = dolfinx.fem.Function(W)\n",
    "    (u, p) = ufl.split(up)\n",
    "\n",
    "    # Variational forms\n",
    "    F = (nu * ufl.inner(ufl.grad(u), ufl.grad(v)) * ufl.dx\n",
    "         + ufl.inner(ufl.grad(u) * u, v) * ufl.dx\n",
    "         - ufl.inner(p, ufl.div(v)) * ufl.dx\n",
    "         + ufl.inner(ufl.div(u), q) * ufl.dx)\n",
    "    J = ufl.derivative(F, up, dup)\n",
    "\n",
    "    # Boundary conditions\n",
    "    u_in = dolfinx.fem.Function(W.sub(0).collapse()[0])\n",
    "    u_in.interpolate(u_in_eval)\n",
    "    u_wall = dolfinx.fem.Function(W.sub(0).collapse()[0])\n",
    "    u_wall.interpolate(u_wall_eval)\n",
    "    bdofs_V_1 = dolfinx.fem.locate_dofs_topological(\n",
    "        (W.sub(0), W.sub(0).collapse()[0]), mesh.topology.dim - 1, boundaries_1)\n",
    "    bdofs_V_2 = dolfinx.fem.locate_dofs_topological(\n",
    "        (W.sub(0), W.sub(0).collapse()[0]), mesh.topology.dim - 1, boundaries_2)\n",
    "    inlet_bc = dolfinx.fem.dirichletbc(u_in, bdofs_V_1, W.sub(0))\n",
    "    wall_bc = dolfinx.fem.dirichletbc(u_wall, bdofs_V_2, W.sub(0))\n",
    "    bc = [inlet_bc, wall_bc]\n",
    "\n",
    "    # Class for interfacing with SNES\n",
    "    class NavierStokesProblem(object):\n",
    "        \"\"\"Define a nonlinear problem, interfacing with SNES.\"\"\"\n",
    "\n",
    "        def __init__(\n",
    "            self, F: ufl.Form, J: ufl.Form, solution: dolfinx.fem.Function,\n",
    "            bcs: typing.List[dolfinx.fem.DirichletBCMetaClass], P: typing.Optional[ufl.Form] = None\n",
    "        ) -> None:\n",
    "            self._F = dolfinx.fem.form(F)\n",
    "            self._J = dolfinx.fem.form(J)\n",
    "            self._obj_vec = dolfinx.fem.create_vector(self._F)\n",
    "            self._solution = solution\n",
    "            self._bcs = bcs\n",
    "            self._P = P\n",
    "\n",
    "        def update_solution(self, x: petsc4py.PETSc.Vec) -> None:\n",
    "            \"\"\"Update `self._solution` with data in `x`.\"\"\"\n",
    "            x.ghostUpdate(addv=petsc4py.PETSc.InsertMode.INSERT, mode=petsc4py.PETSc.ScatterMode.FORWARD)\n",
    "            with x.localForm() as _x, self._solution.vector.localForm() as _solution:\n",
    "                _solution[:] = _x\n",
    "\n",
    "        def obj(self, snes: petsc4py.PETSc.SNES, x: petsc4py.PETSc.Vec) -> np.float64:\n",
    "            \"\"\"Compute the norm of the residual.\"\"\"\n",
    "            self.F(snes, x, self._obj_vec)\n",
    "            return self._obj_vec.norm()\n",
    "\n",
    "        def F(self, snes: petsc4py.PETSc.SNES, x: petsc4py.PETSc.Vec, F_vec: petsc4py.PETSc.Vec) -> None:\n",
    "            \"\"\"Assemble the residual.\"\"\"\n",
    "            self.update_solution(x)\n",
    "            with F_vec.localForm() as F_vec_local:\n",
    "                F_vec_local.set(0.0)\n",
    "            dolfinx.fem.assemble_vector(F_vec, self._F)\n",
    "            dolfinx.fem.apply_lifting(F_vec, [self._J], [self._bcs], x0=[x], scale=-1.0)\n",
    "            F_vec.ghostUpdate(addv=petsc4py.PETSc.InsertMode.ADD, mode=petsc4py.PETSc.ScatterMode.REVERSE)\n",
    "            dolfinx.fem.set_bc(F_vec, self._bcs, x, -1.0)\n",
    "\n",
    "        def J(\n",
    "            self, snes: petsc4py.PETSc.SNES, x: petsc4py.PETSc.Vec, J_mat: petsc4py.PETSc.Mat,\n",
    "            P_mat: petsc4py.PETSc.Mat\n",
    "        ) -> None:\n",
    "            \"\"\"Assemble the jacobian.\"\"\"\n",
    "            J_mat.zeroEntries()\n",
    "            dolfinx.fem.assemble_matrix(J_mat, self._J, self._bcs, diagonal=1.0)\n",
    "            J_mat.assemble()\n",
    "            if self._P is not None:\n",
    "                P_mat.zeroEntries()\n",
    "                dolfinx.fem.assemble_matrix(P_mat, self._P, self._bcs, diagonal=1.0)\n",
    "                P_mat.assemble()\n",
    "\n",
    "    # Create problem\n",
    "    problem = NavierStokesProblem(F, J, up, bc)\n",
    "    F_vec = dolfinx.fem.create_vector(problem._F)\n",
    "    J_mat = dolfinx.fem.create_matrix(problem._J)\n",
    "\n",
    "    # Solve\n",
    "    snes = petsc4py.PETSc.SNES().create(mesh.comm)\n",
    "    snes.setTolerances(max_it=20)\n",
    "    snes.getKSP().setType(\"preonly\")\n",
    "    snes.getKSP().getPC().setType(\"lu\")\n",
    "    snes.getKSP().getPC().setFactorSolverType(\"mumps\")\n",
    "    snes.setObjective(problem.obj)\n",
    "    snes.setFunction(problem.F, F_vec)\n",
    "    snes.setJacobian(problem.J, J=J_mat, P=None)\n",
    "    snes.setMonitor(lambda _, it, residual: print(it, residual))\n",
    "    up_copy = up.vector.copy()\n",
    "    snes.solve(None, up_copy)\n",
    "    problem.update_solution(up_copy)  # TODO can this be safely removed?\n",
    "    return up"
   ]
  },
  {
   "cell_type": "code",
   "execution_count": null,
   "metadata": {},
   "outputs": [],
   "source": [
    "up_m = run_monolithic()\n",
    "(u_m, p_m) = (up_m.sub(0).collapse(), up_m.sub(1).collapse())"
   ]
  },
  {
   "cell_type": "code",
   "execution_count": null,
   "metadata": {},
   "outputs": [],
   "source": [
    "multiphenicsx.io.plot_vector_field(u_m, \"u\")"
   ]
  },
  {
   "cell_type": "code",
   "execution_count": null,
   "metadata": {},
   "outputs": [],
   "source": [
    "multiphenicsx.io.plot_vector_field(u_m, \"u\", glyph_factor=1.0)"
   ]
  },
  {
   "cell_type": "code",
   "execution_count": null,
   "metadata": {},
   "outputs": [],
   "source": [
    "multiphenicsx.io.plot_scalar_field(p_m, \"p\")"
   ]
  },
  {
   "cell_type": "markdown",
   "metadata": {},
   "source": [
    "### Block FEniCSx formulation using two independent function spaces"
   ]
  },
  {
   "cell_type": "code",
   "execution_count": null,
   "metadata": {},
   "outputs": [],
   "source": [
    "def run_block() -> typing.Tuple[dolfinx.fem.Function]:\n",
    "    \"\"\"Run block FEniCSx formulation using two independent function spaces.\"\"\"\n",
    "    # Function spaces\n",
    "    V = dolfinx.fem.FunctionSpace(mesh, V_element)\n",
    "    Q = dolfinx.fem.FunctionSpace(mesh, Q_element)\n",
    "\n",
    "    # Test and trial functions\n",
    "    (v, q) = (ufl.TestFunction(V), ufl.TestFunction(Q))\n",
    "    (du, dp) = (ufl.TrialFunction(V), ufl.TrialFunction(Q))\n",
    "    (u, p) = (dolfinx.fem.Function(V), dolfinx.fem.Function(Q))\n",
    "\n",
    "    # Variational forms\n",
    "    F = [(nu * ufl.inner(ufl.grad(u), ufl.grad(v)) * ufl.dx + ufl.inner(ufl.grad(u) * u, v) * ufl.dx\n",
    "          - ufl.inner(p, ufl.div(v)) * ufl.dx),\n",
    "         ufl.inner(ufl.div(u), q) * ufl.dx]\n",
    "    J = [[ufl.derivative(F[0], u, du), ufl.derivative(F[0], p, dp)],\n",
    "         [ufl.derivative(F[1], u, du), ufl.derivative(F[1], p, dp)]]\n",
    "\n",
    "    # Boundary conditions\n",
    "    u_in = dolfinx.fem.Function(V)\n",
    "    u_in.interpolate(u_in_eval)\n",
    "    u_wall = dolfinx.fem.Function(V)\n",
    "    u_wall.interpolate(u_wall_eval)\n",
    "    bdofs_V_1 = dolfinx.fem.locate_dofs_topological(V, mesh.topology.dim - 1, boundaries_1)\n",
    "    bdofs_V_2 = dolfinx.fem.locate_dofs_topological(V, mesh.topology.dim - 1, boundaries_2)\n",
    "    inlet_bc = dolfinx.fem.dirichletbc(u_in, bdofs_V_1)\n",
    "    wall_bc = dolfinx.fem.dirichletbc(u_wall, bdofs_V_2)\n",
    "    bc = [inlet_bc, wall_bc]\n",
    "\n",
    "    # Class for interfacing with SNES\n",
    "    class NavierStokesProblem(object):\n",
    "        \"\"\"Define a nonlinear problem, interfacing with SNES.\"\"\"\n",
    "\n",
    "        def __init__(\n",
    "            self, F: typing.List[ufl.Form], J: typing.List[typing.List[ufl.Form]],\n",
    "            solutions: typing.Tuple[dolfinx.fem.Function], bcs: typing.List[dolfinx.fem.DirichletBCMetaClass],\n",
    "            P: typing.Optional[typing.List[typing.List[ufl.Form]]] = None\n",
    "        ) -> None:\n",
    "            self._F = dolfinx.fem.form(F)\n",
    "            self._J = dolfinx.fem.form(J)\n",
    "            self._obj_vec = dolfinx.fem.create_vector_block(self._F)\n",
    "            self._solutions = solutions\n",
    "            self._bcs = bcs\n",
    "            self._P = P\n",
    "\n",
    "        def update_solutions(self, x: petsc4py.PETSc.Vec) -> None:\n",
    "            \"\"\"Update `self._solutions` with data in `x`.\"\"\"\n",
    "            x.ghostUpdate(addv=petsc4py.PETSc.InsertMode.INSERT, mode=petsc4py.PETSc.ScatterMode.FORWARD)\n",
    "            with multiphenicsx.fem.BlockVecSubVectorWrapper(x, [V.dofmap, Q.dofmap]) as x_wrapper:\n",
    "                for x_wrapper_local, sub_solution in zip(x_wrapper, self._solutions):\n",
    "                    with sub_solution.vector.localForm() as sub_solution_local:\n",
    "                        sub_solution_local[:] = x_wrapper_local\n",
    "\n",
    "        def obj(self, snes: petsc4py.PETSc.SNES, x: petsc4py.PETSc.Vec) -> np.float64:\n",
    "            \"\"\"Compute the norm of the residual.\"\"\"\n",
    "            self.F(snes, x, self._obj_vec)\n",
    "            return self._obj_vec.norm()\n",
    "\n",
    "        def F(self, snes: petsc4py.PETSc.SNES, x: petsc4py.PETSc.Vec, F_vec: petsc4py.PETSc.Vec) -> None:\n",
    "            \"\"\"Assemble the residual.\"\"\"\n",
    "            self.update_solutions(x)\n",
    "            with F_vec.localForm() as F_vec_local:\n",
    "                F_vec_local.set(0.0)\n",
    "            dolfinx.fem.assemble_vector_block(F_vec, self._F, self._J, self._bcs, x0=x, scale=-1.0)\n",
    "\n",
    "        def J(\n",
    "            self, snes: petsc4py.PETSc.SNES, x: petsc4py.PETSc.Vec, J_mat: petsc4py.PETSc.Mat,\n",
    "            P_mat: petsc4py.PETSc.Mat\n",
    "        ) -> None:\n",
    "            \"\"\"Assemble the jacobian.\"\"\"\n",
    "            J_mat.zeroEntries()\n",
    "            dolfinx.fem.assemble_matrix_block(J_mat, self._J, self._bcs, diagonal=1.0)\n",
    "            J_mat.assemble()\n",
    "            if self._P is not None:\n",
    "                P_mat.zeroEntries()\n",
    "                dolfinx.fem.assemble_matrix_block(P_mat, self._P, self._bcs, diagonal=1.0)\n",
    "                P_mat.assemble()\n",
    "\n",
    "    # Create problem\n",
    "    problem = NavierStokesProblem(F, J, (u, p), bc)\n",
    "    F_vec = dolfinx.fem.create_vector_block(problem._F)\n",
    "    J_mat = dolfinx.fem.create_matrix_block(problem._J)\n",
    "\n",
    "    # Solve\n",
    "    snes = petsc4py.PETSc.SNES().create(mesh.comm)\n",
    "    snes.setTolerances(max_it=20)\n",
    "    snes.getKSP().setType(\"preonly\")\n",
    "    snes.getKSP().getPC().setType(\"lu\")\n",
    "    snes.getKSP().getPC().setFactorSolverType(\"mumps\")\n",
    "    snes.setObjective(problem.obj)\n",
    "    snes.setFunction(problem.F, F_vec)\n",
    "    snes.setJacobian(problem.J, J=J_mat, P=None)\n",
    "    snes.setMonitor(lambda _, it, residual: print(it, residual))\n",
    "    solution = dolfinx.fem.create_vector_block(problem._F)\n",
    "    snes.solve(None, solution)\n",
    "    problem.update_solutions(solution)  # TODO can this be safely removed?\n",
    "    return (u, p)"
   ]
  },
  {
   "cell_type": "code",
   "execution_count": null,
   "metadata": {},
   "outputs": [],
   "source": [
    "(u_b, p_b) = run_block()"
   ]
  },
  {
   "cell_type": "code",
   "execution_count": null,
   "metadata": {},
   "outputs": [],
   "source": [
    "multiphenicsx.io.plot_vector_field(u_b, \"u\", glyph_factor=1)"
   ]
  },
  {
   "cell_type": "code",
   "execution_count": null,
   "metadata": {},
   "outputs": [],
   "source": [
    "multiphenicsx.io.plot_scalar_field(p_b, \"p\")"
   ]
  },
  {
   "cell_type": "markdown",
   "metadata": {},
   "source": [
    "### Error computation between mixed and block cases"
   ]
  },
  {
   "cell_type": "code",
   "execution_count": null,
   "metadata": {},
   "outputs": [],
   "source": [
    "def run_error(\n",
    "    u_m: dolfinx.fem.Function, p_m: dolfinx.fem.Function, u_b: dolfinx.fem.Function, p_b: dolfinx.fem.Function\n",
    ") -> None:\n",
    "    \"\"\"Compute errors between the mixed and block cases.\"\"\"\n",
    "    u_m_norm = np.sqrt(mesh.comm.allreduce(\n",
    "        dolfinx.fem.assemble_scalar(dolfinx.fem.form(ufl.inner(ufl.grad(u_m), ufl.grad(u_m)) * ufl.dx)),\n",
    "        op=mpi4py.MPI.SUM))\n",
    "    err_u_norm = np.sqrt(mesh.comm.allreduce(\n",
    "        dolfinx.fem.assemble_scalar(\n",
    "            dolfinx.fem.form(ufl.inner(ufl.grad(u_b - u_m), ufl.grad(u_b - u_m)) * ufl.dx)),\n",
    "        op=mpi4py.MPI.SUM))\n",
    "    p_m_norm = np.sqrt(mesh.comm.allreduce(\n",
    "        dolfinx.fem.assemble_scalar(dolfinx.fem.form(ufl.inner(p_m, p_m) * ufl.dx)), op=mpi4py.MPI.SUM))\n",
    "    err_p_norm = np.sqrt(mesh.comm.allreduce(\n",
    "        dolfinx.fem.assemble_scalar(dolfinx.fem.form(ufl.inner(p_b - p_m, p_b - p_m) * ufl.dx)),\n",
    "        op=mpi4py.MPI.SUM))\n",
    "    print(\"Relative error for velocity component is equal to\", err_u_norm / u_m_norm)\n",
    "    print(\"Relative error for pressure component is equal to\", err_p_norm / p_m_norm)\n",
    "    assert np.isclose(err_u_norm / u_m_norm, 0., atol=1.e-10)\n",
    "    assert np.isclose(err_p_norm / p_m_norm, 0., atol=1.e-10)"
   ]
  },
  {
   "cell_type": "code",
   "execution_count": null,
   "metadata": {},
   "outputs": [],
   "source": [
    "run_error(u_m, p_m, u_b, p_b)"
   ]
  }
 ],
 "metadata": {
  "kernelspec": {
   "display_name": "Python 3 (ipykernel)",
   "language": "python",
   "name": "python3"
  },
  "language_info": {
   "codemirror_mode": {
    "name": "ipython"
   },
   "file_extension": ".py",
   "mimetype": "text/x-python",
   "name": "python",
   "nbconvert_exporter": "python"
  }
 },
 "nbformat": 4,
 "nbformat_minor": 2
}
