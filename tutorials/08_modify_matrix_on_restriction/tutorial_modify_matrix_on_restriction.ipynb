{
 "cells": [
  {
   "cell_type": "markdown",
   "metadata": {},
   "source": [
    "# Tutorial 08: modify a linear system on restriction\n",
    "\n",
    "In this tutorial we solve the problem\n",
    "\n",
    "$$\\begin{cases}\n",
    "-\\Delta u = f, & \\text{in } \\Omega,\\\\\n",
    " u   = g, & \\text{on } \\Gamma = \\partial\\Omega,\n",
    "\\end{cases}$$\n",
    "\n",
    "where $\\Omega$ is the unit ball in 2D.\n",
    "\n",
    "We compare the following two cases:\n",
    "* **strong imposition of Dirichlet BCs**:\n",
    "the corresponding weak formulation is\n",
    "$$\n",
    "\\text{find } u \\in V_g \\text{ s.t. } \\int_\\Omega \\nabla u \\cdot \\nabla v = \\int_\\Omega f v, \\quad \\forall v \\in V_0\\\\\n",
    "$$\n",
    "where\n",
    "$$\n",
    "V_g = \\{v \\in H^1(\\Omega): v|_\\Gamma = g\\},\\\\\n",
    "V_0 = \\{v \\in H^1(\\Omega): v|_\\Gamma = 0\\}.\\\\\n",
    "$$\n",
    "* **penalty imposition of Dirichlet BCs**: this requires first the discretization of the associated homogeneous Neumann problem\n",
    "$$\n",
    "\\text{find } u \\in V \\text{ s.t. } \\int_\\Omega \\nabla u \\cdot \\nabla v = \\int_\\Omega f v, \\quad \\forall v \\in V\\\\\n",
    "$$\n",
    "where\n",
    "$$\n",
    "V = H^1(\\Omega),\n",
    "$$\n",
    "which we rewrite in matrix form as\n",
    "$$ \\text{find } x \\in \\mathbb{R}^n \\text{ s.t. } A x = b,$$\n",
    "where $A \\in \\mathbb{R}^{n \\times n}$ and $b \\in \\mathbb{R}^n$ are the left-hand side and right-hand side of the discrete Neumann problem.\n",
    "\n",
    "In order to impose Dirichlet boundary conditions, we solve the modified system\n",
    "$$ \\text{find } \\tilde{x} \\in \\mathbb{R}^n \\text{ s.t. } \\tilde{A} \\tilde{x} = \\tilde{b},$$\n",
    "where\n",
    "$$\\tilde{A} = A + P, \\qquad \\tilde{b} = b + q.$$\n",
    "\n",
    "The penalty matrix $P$ is defined as\n",
    "$$\n",
    "P_{ij} =\n",
    "\\begin{cases}\n",
    "\\mu, & \\text{if $i = j$, and $i$ is a boundary DOF},\\\\\n",
    "0, & \\text{otherwise},\n",
    "\\end{cases}$$\n",
    "and the penalty vector $q$ as\n",
    "$$\n",
    "q_i = \n",
    "\\begin{cases}\n",
    "\\mu g(\\mathbf{x}_i), & \\text{if $i$ is a boundary DOF},\\\\\n",
    "0, & \\text{otherwise},\n",
    "\\end{cases}$$\n",
    "where $\\mu \\in \\mathbb{R}$ is (large) scalar number, and $\\mathbf{x}_i$ denotes the coordinate of the entity associated at DOF $i$.\n",
    "\n",
    "The preferred way to impose non-homogeneous Dirichlet boundary conditions should still\n",
    "either be through `dirichletbc` objects (see tutorial 01) or lagrange multipliers\n",
    "(see tutorial 03). This example is meant to show how to use the list of degrees of freedom\n",
    "associated to a specific restriction to perform local modifications to assembled\n",
    "matrices."
   ]
  },
  {
   "cell_type": "code",
   "execution_count": null,
   "id": "gmsh_install",
   "metadata": {},
   "outputs": [],
   "source": [
    "try:\n",
    "    import gmsh\n",
    "except ImportError:\n",
    "    !wget \"https://github.com/fem-on-kaggle/fem-on-kaggle.github.io/raw/1e2da75/releases/gmsh-install.sh\" -O \"/tmp/gmsh-install.sh\" && bash \"/tmp/gmsh-install.sh\"\n",
    "    import gmsh"
   ]
  },
  {
   "cell_type": "code",
   "execution_count": null,
   "id": "fenicsx_install",
   "metadata": {},
   "outputs": [],
   "source": [
    "try:\n",
    "    import dolfinx\n",
    "except ImportError:\n",
    "    !wget \"https://github.com/fem-on-kaggle/fem-on-kaggle.github.io/raw/1e2da75/releases/fenicsx-install-real.sh\" -O \"/tmp/fenicsx-install.sh\" && bash \"/tmp/fenicsx-install.sh\"\n",
    "    import dolfinx"
   ]
  },
  {
   "cell_type": "code",
   "execution_count": null,
   "id": "viskex_install",
   "metadata": {},
   "outputs": [],
   "source": [
    "try:\n",
    "    import viskex\n",
    "except ImportError:\n",
    "    !pip3 install \"viskex@git+https://github.com/viskex/viskex.git@68ec146\"\n",
    "    import viskex"
   ]
  },
  {
   "cell_type": "code",
   "execution_count": null,
   "metadata": {},
   "outputs": [],
   "source": [
    "import typing"
   ]
  },
  {
   "cell_type": "code",
   "execution_count": null,
   "metadata": {},
   "outputs": [],
   "source": [
    "import dolfinx.fem\n",
    "import dolfinx.fem.petsc\n",
    "import dolfinx.io\n",
    "import dolfinx.la\n",
    "import gmsh\n",
    "import mpi4py.MPI\n",
    "import numpy as np\n",
    "import numpy.typing\n",
    "import petsc4py.PETSc\n",
    "import ufl\n",
    "import viskex"
   ]
  },
  {
   "cell_type": "markdown",
   "metadata": {},
   "source": [
    "### Geometrical parameters"
   ]
  },
  {
   "cell_type": "code",
   "execution_count": null,
   "metadata": {},
   "outputs": [],
   "source": [
    "r = 3\n",
    "lcar = 1. / 4."
   ]
  },
  {
   "cell_type": "markdown",
   "metadata": {},
   "source": [
    "### Mesh"
   ]
  },
  {
   "cell_type": "code",
   "execution_count": null,
   "metadata": {},
   "outputs": [],
   "source": [
    "gmsh.initialize()\n",
    "gmsh.model.add(\"mesh\")"
   ]
  },
  {
   "cell_type": "code",
   "execution_count": null,
   "metadata": {},
   "outputs": [],
   "source": [
    "p0 = gmsh.model.geo.addPoint(0.0, 0.0, 0.0, lcar)\n",
    "p1 = gmsh.model.geo.addPoint(0.0, +r, 0.0, lcar)\n",
    "p2 = gmsh.model.geo.addPoint(0.0, -r, 0.0, lcar)\n",
    "c0 = gmsh.model.geo.addCircleArc(p1, p0, p2)\n",
    "c1 = gmsh.model.geo.addCircleArc(p2, p0, p1)\n",
    "boundary = gmsh.model.geo.addCurveLoop([c0, c1])\n",
    "domain = gmsh.model.geo.addPlaneSurface([boundary])"
   ]
  },
  {
   "cell_type": "code",
   "execution_count": null,
   "metadata": {},
   "outputs": [],
   "source": [
    "gmsh.model.geo.synchronize()\n",
    "gmsh.model.addPhysicalGroup(1, [c0, c1], 1)\n",
    "gmsh.model.addPhysicalGroup(2, [boundary], 0)\n",
    "gmsh.model.mesh.generate(2)"
   ]
  },
  {
   "cell_type": "code",
   "execution_count": null,
   "metadata": {},
   "outputs": [],
   "source": [
    "mesh, subdomains, boundaries = dolfinx.io.gmshio.model_to_mesh(\n",
    "    gmsh.model, comm=mpi4py.MPI.COMM_WORLD, rank=0, gdim=2)\n",
    "gmsh.finalize()"
   ]
  },
  {
   "cell_type": "code",
   "execution_count": null,
   "metadata": {},
   "outputs": [],
   "source": [
    "facets_Gamma = boundaries.indices[boundaries.values == 1]"
   ]
  },
  {
   "cell_type": "code",
   "execution_count": null,
   "metadata": {},
   "outputs": [],
   "source": [
    "viskex.dolfinx.plot_mesh(mesh)"
   ]
  },
  {
   "cell_type": "code",
   "execution_count": null,
   "metadata": {},
   "outputs": [],
   "source": [
    "viskex.dolfinx.plot_mesh_entities(mesh, mesh.topology.dim - 1, \"boundaries_1\", facets_Gamma)"
   ]
  },
  {
   "cell_type": "markdown",
   "metadata": {},
   "source": [
    "### Helper functions"
   ]
  },
  {
   "cell_type": "code",
   "execution_count": null,
   "metadata": {},
   "outputs": [],
   "source": [
    "def generate_penalty_system(  # type: ignore[no-any-unimported]\n",
    "    V: dolfinx.fem.FunctionSpace, restriction: np.typing.NDArray[np.int32], penalty: float,\n",
    "    g: dolfinx.fem.Function\n",
    ") -> typing.Tuple[petsc4py.PETSc.Mat, petsc4py.PETSc.Vec]:\n",
    "    \"\"\"Generate matrix and vector to be added to the system to handle the penalty terms.\"\"\"\n",
    "    # Assemble penalty matrix.\n",
    "    p = ufl.inner(u, v) * ufl.ds  # this form is not used per se, just to allocate the correct sparsity pattern\n",
    "    P = dolfinx.fem.petsc.create_matrix(dolfinx.fem.form(p))  # this creates a zero matrix\n",
    "    for dof in restriction:\n",
    "        P.setValuesLocal([dof], [dof], [penalty])  # set P_{ij} = penalty * \\delta_{ij}, if i on boundary\n",
    "    P.assemble()\n",
    "    # Next, assemble the penalty vector.\n",
    "    q = dolfinx.la.create_petsc_vector(V.dofmap.index_map, V.dofmap.index_map_bs)\n",
    "    with q.localForm() as q_local, g.vector.localForm() as g_local:\n",
    "        q_local[restriction] = penalty * g_local[restriction]\n",
    "    # Return matrix and vector\n",
    "    return P, q"
   ]
  },
  {
   "cell_type": "markdown",
   "metadata": {},
   "source": [
    "### Penalty imposition of Dirichlet BCs"
   ]
  },
  {
   "cell_type": "code",
   "execution_count": null,
   "metadata": {},
   "outputs": [],
   "source": [
    "# Define a function space\n",
    "V = dolfinx.fem.functionspace(mesh, (\"Lagrange\", 2))"
   ]
  },
  {
   "cell_type": "code",
   "execution_count": null,
   "metadata": {},
   "outputs": [],
   "source": [
    "# Define trial and test functions\n",
    "u = ufl.TrialFunction(V)\n",
    "v = ufl.TestFunction(V)"
   ]
  },
  {
   "cell_type": "code",
   "execution_count": null,
   "metadata": {},
   "outputs": [],
   "source": [
    "# Define problem forms\n",
    "g = dolfinx.fem.Function(V)\n",
    "g.interpolate(lambda x: np.sin(3 * x[0] + 1) * np.sin(3 * x[1] + 1))\n",
    "a = ufl.inner(ufl.grad(u), ufl.grad(v)) * ufl.dx\n",
    "f = ufl.inner(1, v) * ufl.dx\n",
    "a_cpp = dolfinx.fem.form(a)\n",
    "f_cpp = dolfinx.fem.form(f)"
   ]
  },
  {
   "cell_type": "code",
   "execution_count": null,
   "metadata": {},
   "outputs": [],
   "source": [
    "# Assemble the linear system\n",
    "A = dolfinx.fem.petsc.assemble_matrix(a_cpp)\n",
    "A.assemble()\n",
    "F = dolfinx.fem.petsc.assemble_vector(f_cpp)\n",
    "F.ghostUpdate(addv=petsc4py.PETSc.InsertMode.ADD, mode=petsc4py.PETSc.ScatterMode.REVERSE)"
   ]
  },
  {
   "cell_type": "code",
   "execution_count": null,
   "metadata": {},
   "outputs": [],
   "source": [
    "# Add penalty terms\n",
    "dofs_V_Gamma = dolfinx.fem.locate_dofs_topological(V, boundaries.dim, facets_Gamma)\n",
    "(P, Q) = generate_penalty_system(V, dofs_V_Gamma, 1.e10, g)"
   ]
  },
  {
   "cell_type": "code",
   "execution_count": null,
   "metadata": {},
   "outputs": [],
   "source": [
    "u = dolfinx.fem.Function(V)\n",
    "ksp = petsc4py.PETSc.KSP()\n",
    "ksp.create(mesh.comm)\n",
    "ksp.setOperators(A + P)\n",
    "ksp.setType(\"preonly\")\n",
    "ksp.getPC().setType(\"lu\")\n",
    "ksp.getPC().setFactorSolverType(\"mumps\")\n",
    "ksp.solve(F + Q, u.vector)\n",
    "u.vector.ghostUpdate(addv=petsc4py.PETSc.InsertMode.INSERT, mode=petsc4py.PETSc.ScatterMode.FORWARD)\n",
    "ksp.destroy()"
   ]
  },
  {
   "cell_type": "code",
   "execution_count": null,
   "metadata": {},
   "outputs": [],
   "source": [
    "viskex.dolfinx.plot_scalar_field(u, \"u\")"
   ]
  },
  {
   "cell_type": "markdown",
   "metadata": {},
   "source": [
    "### Strong imposition of Dirichlet BCs"
   ]
  },
  {
   "cell_type": "code",
   "execution_count": null,
   "metadata": {},
   "outputs": [],
   "source": [
    "# Define Dirichlet BC object on Gamma\n",
    "bc_ex = dolfinx.fem.dirichletbc(g, dofs_V_Gamma)"
   ]
  },
  {
   "cell_type": "code",
   "execution_count": null,
   "metadata": {},
   "outputs": [],
   "source": [
    "# Solve\n",
    "u_ex = dolfinx.fem.Function(V)\n",
    "problem_ex = dolfinx.fem.petsc.LinearProblem(\n",
    "    a, f, bcs=[bc_ex], u=u_ex,\n",
    "    petsc_options={\"ksp_type\": \"preonly\", \"pc_type\": \"lu\", \"pc_factor_mat_solver_type\": \"mumps\"})\n",
    "problem_ex.solve()\n",
    "u_ex.vector.ghostUpdate(addv=petsc4py.PETSc.InsertMode.INSERT, mode=petsc4py.PETSc.ScatterMode.FORWARD)"
   ]
  },
  {
   "cell_type": "code",
   "execution_count": null,
   "metadata": {},
   "outputs": [],
   "source": [
    "viskex.dolfinx.plot_scalar_field(u_ex, \"u\")"
   ]
  },
  {
   "cell_type": "markdown",
   "metadata": {},
   "source": [
    "### Comparison and error computation"
   ]
  },
  {
   "cell_type": "code",
   "execution_count": null,
   "metadata": {},
   "outputs": [],
   "source": [
    "u_ex_norm = np.sqrt(mesh.comm.allreduce(\n",
    "    dolfinx.fem.assemble_scalar(dolfinx.fem.form(ufl.inner(ufl.grad(u_ex), ufl.grad(u_ex)) * ufl.dx)),\n",
    "    op=mpi4py.MPI.SUM))\n",
    "err_norm = np.sqrt(mesh.comm.allreduce(\n",
    "    dolfinx.fem.assemble_scalar(dolfinx.fem.form(ufl.inner(ufl.grad(u_ex - u), ufl.grad(u_ex - u)) * ufl.dx)),\n",
    "    op=mpi4py.MPI.SUM))\n",
    "print(\"Relative error is equal to\", err_norm / u_ex_norm)\n",
    "assert np.isclose(err_norm / u_ex_norm, 0., atol=1.e-10)"
   ]
  }
 ],
 "metadata": {
  "kernelspec": {
   "display_name": "Python 3 (ipykernel)",
   "language": "python",
   "name": "python3"
  },
  "language_info": {
   "codemirror_mode": {
    "name": "ipython"
   },
   "file_extension": ".py",
   "mimetype": "text/x-python",
   "name": "python",
   "nbconvert_exporter": "python"
  }
 },
 "nbformat": 4,
 "nbformat_minor": 4
}
